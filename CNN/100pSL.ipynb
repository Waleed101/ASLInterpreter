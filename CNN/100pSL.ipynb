{
  "nbformat": 4,
  "nbformat_minor": 0,
  "metadata": {
    "colab": {
      "name": "100pSL.ipynb",
      "provenance": [],
      "collapsed_sections": []
    },
    "kernelspec": {
      "name": "python3",
      "display_name": "Python 3"
    }
  },
  "cells": [
    {
      "cell_type": "code",
      "metadata": {
        "colab": {
          "base_uri": "https://localhost:8080/"
        },
        "id": "slNu-4CGKMMo",
        "outputId": "404fc042-8874-47ad-e749-421740b22827"
      },
      "source": [
        "from google.colab import drive\r\n",
        "drive.mount('/content/gdrive')"
      ],
      "execution_count": null,
      "outputs": [
        {
          "output_type": "stream",
          "text": [
            "Mounted at /content/gdrive\n"
          ],
          "name": "stdout"
        }
      ]
    },
    {
      "cell_type": "code",
      "metadata": {
        "id": "I8SJwl3LLTN_"
      },
      "source": [
        "dir_path = \"gdrive/My Drive/WEC/\""
      ],
      "execution_count": null,
      "outputs": []
    },
    {
      "cell_type": "code",
      "metadata": {
        "colab": {
          "base_uri": "https://localhost:8080/"
        },
        "id": "5qMPZnDfLaTK",
        "outputId": "86ccf080-393b-4f19-f7b6-7db5f3a57a7f"
      },
      "source": [
        "import numpy as np\r\n",
        "import pandas as pd\r\n",
        "\r\n",
        "import os\r\n",
        "for dirname, _, filenames in os.walk(dir_path):\r\n",
        "    for filename in filenames:\r\n",
        "        print(os.path.join(dirname, filename))\r\n"
      ],
      "execution_count": null,
      "outputs": [
        {
          "output_type": "stream",
          "text": [
            "gdrive/My Drive/WEC/american_sign_language.PNG\n",
            "gdrive/My Drive/WEC/amer_sign3.png\n",
            "gdrive/My Drive/WEC/amer_sign2.png\n",
            "gdrive/My Drive/WEC/sign_mnist_test.csv\n",
            "gdrive/My Drive/WEC/sign_mnist_train.csv\n",
            "gdrive/My Drive/WEC/greyscale.jpg\n",
            "gdrive/My Drive/WEC/test_scenario_1.jpg\n",
            "gdrive/My Drive/WEC/test_scenario_2.jpg\n",
            "gdrive/My Drive/WEC/test_scenario_3.jpg\n",
            "gdrive/My Drive/WEC/test_scenario_4.jpg\n",
            "gdrive/My Drive/WEC/x.jpg\n",
            "gdrive/My Drive/WEC/j.jpg\n",
            "gdrive/My Drive/WEC/test_scenario_5.jpg\n",
            "gdrive/My Drive/WEC/saved_model.pb\n",
            "gdrive/My Drive/WEC/grayX.jpg\n",
            "gdrive/My Drive/WEC/temp_try_1.jpg\n",
            "gdrive/My Drive/WEC/temp.jpg\n",
            "gdrive/My Drive/WEC/hand_2.jpg\n",
            "gdrive/My Drive/WEC/hand_3.jpg\n",
            "gdrive/My Drive/WEC/hand_4.jpg\n",
            "gdrive/My Drive/WEC/hand_5.jpg\n",
            "gdrive/My Drive/WEC/hand_6.jpg\n",
            "gdrive/My Drive/WEC/sign_mnist_test/sign_mnist_test.csv\n",
            "gdrive/My Drive/WEC/sign_mnist_train/sign_mnist_train.csv\n",
            "gdrive/My Drive/WEC/variables/variables.index\n",
            "gdrive/My Drive/WEC/variables/variables.data-00000-of-00001\n",
            "gdrive/My Drive/WEC/my_model.tflearn/saved_model.pb\n",
            "gdrive/My Drive/WEC/my_model.tflearn/variables/variables.data-00000-of-00001\n",
            "gdrive/My Drive/WEC/my_model.tflearn/variables/variables.index\n"
          ],
          "name": "stdout"
        }
      ]
    },
    {
      "cell_type": "code",
      "metadata": {
        "id": "xEa4u3OwLnFv"
      },
      "source": [
        "import matplotlib.pyplot as plt\r\n",
        "import seaborn as sns\r\n",
        "import keras\r\n",
        "from keras.models import Sequential\r\n",
        "from keras.layers import Dense, Conv2D , MaxPool2D , Flatten , Dropout , BatchNormalization\r\n",
        "from keras.preprocessing.image import ImageDataGenerator\r\n",
        "from sklearn.model_selection import train_test_split\r\n",
        "from sklearn.metrics import classification_report,confusion_matrix\r\n",
        "from keras.callbacks import ReduceLROnPlateau"
      ],
      "execution_count": null,
      "outputs": []
    },
    {
      "cell_type": "code",
      "metadata": {
        "id": "eIoNLmCWLzaj"
      },
      "source": [
        "train_df = pd.read_csv(dir_path + \"sign_mnist_train/sign_mnist_train.csv\")\r\n",
        "test_df = pd.read_csv(dir_path + \"sign_mnist_test/sign_mnist_test.csv\")"
      ],
      "execution_count": null,
      "outputs": []
    },
    {
      "cell_type": "code",
      "metadata": {
        "id": "ZuK_6xrgLxZc"
      },
      "source": [
        "test = pd.read_csv(dir_path + \"sign_mnist_test/sign_mnist_test.csv\")\r\n",
        "y = test['label']"
      ],
      "execution_count": null,
      "outputs": []
    },
    {
      "cell_type": "code",
      "metadata": {
        "colab": {
          "base_uri": "https://localhost:8080/",
          "height": 253
        },
        "id": "N5Cc8vB2MICw",
        "outputId": "5f8ca26d-6ad7-442d-fe39-899f16d0a6d1"
      },
      "source": [
        "train_df.head()"
      ],
      "execution_count": null,
      "outputs": [
        {
          "output_type": "execute_result",
          "data": {
            "text/html": [
              "<div>\n",
              "<style scoped>\n",
              "    .dataframe tbody tr th:only-of-type {\n",
              "        vertical-align: middle;\n",
              "    }\n",
              "\n",
              "    .dataframe tbody tr th {\n",
              "        vertical-align: top;\n",
              "    }\n",
              "\n",
              "    .dataframe thead th {\n",
              "        text-align: right;\n",
              "    }\n",
              "</style>\n",
              "<table border=\"1\" class=\"dataframe\">\n",
              "  <thead>\n",
              "    <tr style=\"text-align: right;\">\n",
              "      <th></th>\n",
              "      <th>label</th>\n",
              "      <th>pixel1</th>\n",
              "      <th>pixel2</th>\n",
              "      <th>pixel3</th>\n",
              "      <th>pixel4</th>\n",
              "      <th>pixel5</th>\n",
              "      <th>pixel6</th>\n",
              "      <th>pixel7</th>\n",
              "      <th>pixel8</th>\n",
              "      <th>pixel9</th>\n",
              "      <th>pixel10</th>\n",
              "      <th>pixel11</th>\n",
              "      <th>pixel12</th>\n",
              "      <th>pixel13</th>\n",
              "      <th>pixel14</th>\n",
              "      <th>pixel15</th>\n",
              "      <th>pixel16</th>\n",
              "      <th>pixel17</th>\n",
              "      <th>pixel18</th>\n",
              "      <th>pixel19</th>\n",
              "      <th>pixel20</th>\n",
              "      <th>pixel21</th>\n",
              "      <th>pixel22</th>\n",
              "      <th>pixel23</th>\n",
              "      <th>pixel24</th>\n",
              "      <th>pixel25</th>\n",
              "      <th>pixel26</th>\n",
              "      <th>pixel27</th>\n",
              "      <th>pixel28</th>\n",
              "      <th>pixel29</th>\n",
              "      <th>pixel30</th>\n",
              "      <th>pixel31</th>\n",
              "      <th>pixel32</th>\n",
              "      <th>pixel33</th>\n",
              "      <th>pixel34</th>\n",
              "      <th>pixel35</th>\n",
              "      <th>pixel36</th>\n",
              "      <th>pixel37</th>\n",
              "      <th>pixel38</th>\n",
              "      <th>pixel39</th>\n",
              "      <th>...</th>\n",
              "      <th>pixel745</th>\n",
              "      <th>pixel746</th>\n",
              "      <th>pixel747</th>\n",
              "      <th>pixel748</th>\n",
              "      <th>pixel749</th>\n",
              "      <th>pixel750</th>\n",
              "      <th>pixel751</th>\n",
              "      <th>pixel752</th>\n",
              "      <th>pixel753</th>\n",
              "      <th>pixel754</th>\n",
              "      <th>pixel755</th>\n",
              "      <th>pixel756</th>\n",
              "      <th>pixel757</th>\n",
              "      <th>pixel758</th>\n",
              "      <th>pixel759</th>\n",
              "      <th>pixel760</th>\n",
              "      <th>pixel761</th>\n",
              "      <th>pixel762</th>\n",
              "      <th>pixel763</th>\n",
              "      <th>pixel764</th>\n",
              "      <th>pixel765</th>\n",
              "      <th>pixel766</th>\n",
              "      <th>pixel767</th>\n",
              "      <th>pixel768</th>\n",
              "      <th>pixel769</th>\n",
              "      <th>pixel770</th>\n",
              "      <th>pixel771</th>\n",
              "      <th>pixel772</th>\n",
              "      <th>pixel773</th>\n",
              "      <th>pixel774</th>\n",
              "      <th>pixel775</th>\n",
              "      <th>pixel776</th>\n",
              "      <th>pixel777</th>\n",
              "      <th>pixel778</th>\n",
              "      <th>pixel779</th>\n",
              "      <th>pixel780</th>\n",
              "      <th>pixel781</th>\n",
              "      <th>pixel782</th>\n",
              "      <th>pixel783</th>\n",
              "      <th>pixel784</th>\n",
              "    </tr>\n",
              "  </thead>\n",
              "  <tbody>\n",
              "    <tr>\n",
              "      <th>0</th>\n",
              "      <td>3</td>\n",
              "      <td>107</td>\n",
              "      <td>118</td>\n",
              "      <td>127</td>\n",
              "      <td>134</td>\n",
              "      <td>139</td>\n",
              "      <td>143</td>\n",
              "      <td>146</td>\n",
              "      <td>150</td>\n",
              "      <td>153</td>\n",
              "      <td>156</td>\n",
              "      <td>158</td>\n",
              "      <td>160</td>\n",
              "      <td>163</td>\n",
              "      <td>165</td>\n",
              "      <td>159</td>\n",
              "      <td>166</td>\n",
              "      <td>168</td>\n",
              "      <td>170</td>\n",
              "      <td>170</td>\n",
              "      <td>171</td>\n",
              "      <td>171</td>\n",
              "      <td>171</td>\n",
              "      <td>172</td>\n",
              "      <td>171</td>\n",
              "      <td>171</td>\n",
              "      <td>170</td>\n",
              "      <td>170</td>\n",
              "      <td>169</td>\n",
              "      <td>111</td>\n",
              "      <td>121</td>\n",
              "      <td>129</td>\n",
              "      <td>135</td>\n",
              "      <td>141</td>\n",
              "      <td>144</td>\n",
              "      <td>148</td>\n",
              "      <td>151</td>\n",
              "      <td>154</td>\n",
              "      <td>157</td>\n",
              "      <td>160</td>\n",
              "      <td>...</td>\n",
              "      <td>205</td>\n",
              "      <td>206</td>\n",
              "      <td>206</td>\n",
              "      <td>207</td>\n",
              "      <td>207</td>\n",
              "      <td>206</td>\n",
              "      <td>206</td>\n",
              "      <td>204</td>\n",
              "      <td>205</td>\n",
              "      <td>204</td>\n",
              "      <td>203</td>\n",
              "      <td>202</td>\n",
              "      <td>142</td>\n",
              "      <td>151</td>\n",
              "      <td>160</td>\n",
              "      <td>172</td>\n",
              "      <td>196</td>\n",
              "      <td>188</td>\n",
              "      <td>188</td>\n",
              "      <td>190</td>\n",
              "      <td>135</td>\n",
              "      <td>96</td>\n",
              "      <td>86</td>\n",
              "      <td>77</td>\n",
              "      <td>77</td>\n",
              "      <td>79</td>\n",
              "      <td>176</td>\n",
              "      <td>205</td>\n",
              "      <td>207</td>\n",
              "      <td>207</td>\n",
              "      <td>207</td>\n",
              "      <td>207</td>\n",
              "      <td>207</td>\n",
              "      <td>207</td>\n",
              "      <td>206</td>\n",
              "      <td>206</td>\n",
              "      <td>206</td>\n",
              "      <td>204</td>\n",
              "      <td>203</td>\n",
              "      <td>202</td>\n",
              "    </tr>\n",
              "    <tr>\n",
              "      <th>1</th>\n",
              "      <td>6</td>\n",
              "      <td>155</td>\n",
              "      <td>157</td>\n",
              "      <td>156</td>\n",
              "      <td>156</td>\n",
              "      <td>156</td>\n",
              "      <td>157</td>\n",
              "      <td>156</td>\n",
              "      <td>158</td>\n",
              "      <td>158</td>\n",
              "      <td>157</td>\n",
              "      <td>158</td>\n",
              "      <td>156</td>\n",
              "      <td>154</td>\n",
              "      <td>154</td>\n",
              "      <td>153</td>\n",
              "      <td>152</td>\n",
              "      <td>151</td>\n",
              "      <td>149</td>\n",
              "      <td>149</td>\n",
              "      <td>148</td>\n",
              "      <td>147</td>\n",
              "      <td>146</td>\n",
              "      <td>144</td>\n",
              "      <td>142</td>\n",
              "      <td>143</td>\n",
              "      <td>138</td>\n",
              "      <td>92</td>\n",
              "      <td>108</td>\n",
              "      <td>158</td>\n",
              "      <td>159</td>\n",
              "      <td>159</td>\n",
              "      <td>159</td>\n",
              "      <td>160</td>\n",
              "      <td>160</td>\n",
              "      <td>160</td>\n",
              "      <td>160</td>\n",
              "      <td>160</td>\n",
              "      <td>160</td>\n",
              "      <td>160</td>\n",
              "      <td>...</td>\n",
              "      <td>100</td>\n",
              "      <td>78</td>\n",
              "      <td>120</td>\n",
              "      <td>157</td>\n",
              "      <td>168</td>\n",
              "      <td>107</td>\n",
              "      <td>99</td>\n",
              "      <td>121</td>\n",
              "      <td>133</td>\n",
              "      <td>97</td>\n",
              "      <td>95</td>\n",
              "      <td>120</td>\n",
              "      <td>135</td>\n",
              "      <td>116</td>\n",
              "      <td>95</td>\n",
              "      <td>79</td>\n",
              "      <td>69</td>\n",
              "      <td>86</td>\n",
              "      <td>139</td>\n",
              "      <td>173</td>\n",
              "      <td>200</td>\n",
              "      <td>185</td>\n",
              "      <td>175</td>\n",
              "      <td>198</td>\n",
              "      <td>124</td>\n",
              "      <td>118</td>\n",
              "      <td>94</td>\n",
              "      <td>140</td>\n",
              "      <td>133</td>\n",
              "      <td>84</td>\n",
              "      <td>69</td>\n",
              "      <td>149</td>\n",
              "      <td>128</td>\n",
              "      <td>87</td>\n",
              "      <td>94</td>\n",
              "      <td>163</td>\n",
              "      <td>175</td>\n",
              "      <td>103</td>\n",
              "      <td>135</td>\n",
              "      <td>149</td>\n",
              "    </tr>\n",
              "    <tr>\n",
              "      <th>2</th>\n",
              "      <td>2</td>\n",
              "      <td>187</td>\n",
              "      <td>188</td>\n",
              "      <td>188</td>\n",
              "      <td>187</td>\n",
              "      <td>187</td>\n",
              "      <td>186</td>\n",
              "      <td>187</td>\n",
              "      <td>188</td>\n",
              "      <td>187</td>\n",
              "      <td>186</td>\n",
              "      <td>185</td>\n",
              "      <td>185</td>\n",
              "      <td>185</td>\n",
              "      <td>184</td>\n",
              "      <td>184</td>\n",
              "      <td>184</td>\n",
              "      <td>181</td>\n",
              "      <td>181</td>\n",
              "      <td>179</td>\n",
              "      <td>179</td>\n",
              "      <td>179</td>\n",
              "      <td>178</td>\n",
              "      <td>178</td>\n",
              "      <td>109</td>\n",
              "      <td>52</td>\n",
              "      <td>66</td>\n",
              "      <td>77</td>\n",
              "      <td>83</td>\n",
              "      <td>188</td>\n",
              "      <td>189</td>\n",
              "      <td>189</td>\n",
              "      <td>188</td>\n",
              "      <td>188</td>\n",
              "      <td>189</td>\n",
              "      <td>188</td>\n",
              "      <td>188</td>\n",
              "      <td>188</td>\n",
              "      <td>188</td>\n",
              "      <td>187</td>\n",
              "      <td>...</td>\n",
              "      <td>203</td>\n",
              "      <td>204</td>\n",
              "      <td>203</td>\n",
              "      <td>201</td>\n",
              "      <td>200</td>\n",
              "      <td>200</td>\n",
              "      <td>199</td>\n",
              "      <td>198</td>\n",
              "      <td>196</td>\n",
              "      <td>195</td>\n",
              "      <td>194</td>\n",
              "      <td>193</td>\n",
              "      <td>198</td>\n",
              "      <td>166</td>\n",
              "      <td>132</td>\n",
              "      <td>114</td>\n",
              "      <td>89</td>\n",
              "      <td>74</td>\n",
              "      <td>79</td>\n",
              "      <td>77</td>\n",
              "      <td>74</td>\n",
              "      <td>78</td>\n",
              "      <td>132</td>\n",
              "      <td>188</td>\n",
              "      <td>210</td>\n",
              "      <td>209</td>\n",
              "      <td>206</td>\n",
              "      <td>205</td>\n",
              "      <td>204</td>\n",
              "      <td>203</td>\n",
              "      <td>202</td>\n",
              "      <td>201</td>\n",
              "      <td>200</td>\n",
              "      <td>199</td>\n",
              "      <td>198</td>\n",
              "      <td>199</td>\n",
              "      <td>198</td>\n",
              "      <td>195</td>\n",
              "      <td>194</td>\n",
              "      <td>195</td>\n",
              "    </tr>\n",
              "    <tr>\n",
              "      <th>3</th>\n",
              "      <td>2</td>\n",
              "      <td>211</td>\n",
              "      <td>211</td>\n",
              "      <td>212</td>\n",
              "      <td>212</td>\n",
              "      <td>211</td>\n",
              "      <td>210</td>\n",
              "      <td>211</td>\n",
              "      <td>210</td>\n",
              "      <td>210</td>\n",
              "      <td>211</td>\n",
              "      <td>209</td>\n",
              "      <td>207</td>\n",
              "      <td>208</td>\n",
              "      <td>207</td>\n",
              "      <td>206</td>\n",
              "      <td>203</td>\n",
              "      <td>202</td>\n",
              "      <td>201</td>\n",
              "      <td>200</td>\n",
              "      <td>198</td>\n",
              "      <td>197</td>\n",
              "      <td>195</td>\n",
              "      <td>192</td>\n",
              "      <td>197</td>\n",
              "      <td>171</td>\n",
              "      <td>51</td>\n",
              "      <td>52</td>\n",
              "      <td>54</td>\n",
              "      <td>212</td>\n",
              "      <td>213</td>\n",
              "      <td>215</td>\n",
              "      <td>215</td>\n",
              "      <td>212</td>\n",
              "      <td>212</td>\n",
              "      <td>213</td>\n",
              "      <td>212</td>\n",
              "      <td>212</td>\n",
              "      <td>211</td>\n",
              "      <td>211</td>\n",
              "      <td>...</td>\n",
              "      <td>247</td>\n",
              "      <td>242</td>\n",
              "      <td>233</td>\n",
              "      <td>231</td>\n",
              "      <td>230</td>\n",
              "      <td>229</td>\n",
              "      <td>227</td>\n",
              "      <td>225</td>\n",
              "      <td>223</td>\n",
              "      <td>221</td>\n",
              "      <td>220</td>\n",
              "      <td>216</td>\n",
              "      <td>58</td>\n",
              "      <td>51</td>\n",
              "      <td>49</td>\n",
              "      <td>50</td>\n",
              "      <td>57</td>\n",
              "      <td>60</td>\n",
              "      <td>17</td>\n",
              "      <td>15</td>\n",
              "      <td>18</td>\n",
              "      <td>17</td>\n",
              "      <td>19</td>\n",
              "      <td>1</td>\n",
              "      <td>159</td>\n",
              "      <td>255</td>\n",
              "      <td>237</td>\n",
              "      <td>239</td>\n",
              "      <td>237</td>\n",
              "      <td>236</td>\n",
              "      <td>235</td>\n",
              "      <td>234</td>\n",
              "      <td>233</td>\n",
              "      <td>231</td>\n",
              "      <td>230</td>\n",
              "      <td>226</td>\n",
              "      <td>225</td>\n",
              "      <td>222</td>\n",
              "      <td>229</td>\n",
              "      <td>163</td>\n",
              "    </tr>\n",
              "    <tr>\n",
              "      <th>4</th>\n",
              "      <td>13</td>\n",
              "      <td>164</td>\n",
              "      <td>167</td>\n",
              "      <td>170</td>\n",
              "      <td>172</td>\n",
              "      <td>176</td>\n",
              "      <td>179</td>\n",
              "      <td>180</td>\n",
              "      <td>184</td>\n",
              "      <td>185</td>\n",
              "      <td>186</td>\n",
              "      <td>188</td>\n",
              "      <td>189</td>\n",
              "      <td>189</td>\n",
              "      <td>190</td>\n",
              "      <td>191</td>\n",
              "      <td>189</td>\n",
              "      <td>190</td>\n",
              "      <td>190</td>\n",
              "      <td>187</td>\n",
              "      <td>190</td>\n",
              "      <td>192</td>\n",
              "      <td>193</td>\n",
              "      <td>191</td>\n",
              "      <td>191</td>\n",
              "      <td>192</td>\n",
              "      <td>192</td>\n",
              "      <td>194</td>\n",
              "      <td>194</td>\n",
              "      <td>166</td>\n",
              "      <td>169</td>\n",
              "      <td>172</td>\n",
              "      <td>174</td>\n",
              "      <td>177</td>\n",
              "      <td>180</td>\n",
              "      <td>182</td>\n",
              "      <td>185</td>\n",
              "      <td>186</td>\n",
              "      <td>187</td>\n",
              "      <td>190</td>\n",
              "      <td>...</td>\n",
              "      <td>90</td>\n",
              "      <td>77</td>\n",
              "      <td>88</td>\n",
              "      <td>117</td>\n",
              "      <td>123</td>\n",
              "      <td>127</td>\n",
              "      <td>129</td>\n",
              "      <td>134</td>\n",
              "      <td>145</td>\n",
              "      <td>152</td>\n",
              "      <td>156</td>\n",
              "      <td>179</td>\n",
              "      <td>105</td>\n",
              "      <td>106</td>\n",
              "      <td>105</td>\n",
              "      <td>104</td>\n",
              "      <td>104</td>\n",
              "      <td>104</td>\n",
              "      <td>175</td>\n",
              "      <td>199</td>\n",
              "      <td>178</td>\n",
              "      <td>152</td>\n",
              "      <td>136</td>\n",
              "      <td>130</td>\n",
              "      <td>136</td>\n",
              "      <td>150</td>\n",
              "      <td>118</td>\n",
              "      <td>92</td>\n",
              "      <td>85</td>\n",
              "      <td>76</td>\n",
              "      <td>92</td>\n",
              "      <td>105</td>\n",
              "      <td>105</td>\n",
              "      <td>108</td>\n",
              "      <td>133</td>\n",
              "      <td>163</td>\n",
              "      <td>157</td>\n",
              "      <td>163</td>\n",
              "      <td>164</td>\n",
              "      <td>179</td>\n",
              "    </tr>\n",
              "  </tbody>\n",
              "</table>\n",
              "<p>5 rows × 785 columns</p>\n",
              "</div>"
            ],
            "text/plain": [
              "   label  pixel1  pixel2  pixel3  ...  pixel781  pixel782  pixel783  pixel784\n",
              "0      3     107     118     127  ...       206       204       203       202\n",
              "1      6     155     157     156  ...       175       103       135       149\n",
              "2      2     187     188     188  ...       198       195       194       195\n",
              "3      2     211     211     212  ...       225       222       229       163\n",
              "4     13     164     167     170  ...       157       163       164       179\n",
              "\n",
              "[5 rows x 785 columns]"
            ]
          },
          "metadata": {
            "tags": []
          },
          "execution_count": 8
        }
      ]
    },
    {
      "cell_type": "code",
      "metadata": {
        "colab": {
          "base_uri": "https://localhost:8080/",
          "height": 677
        },
        "id": "B1aq1ld4MLp2",
        "outputId": "a8867456-ad45-49bf-9155-ff5c91beac04"
      },
      "source": [
        "plt.figure(figsize = (10,10)) # Label Count\r\n",
        "sns.set_style(\"darkgrid\")\r\n",
        "sns.countplot(train_df['label'])\r\n",
        "# nums = [0,0,0,0,0,0,0,0,0,0,0,0,0,0,0,0,0,0,0,0,0,0,0,0]\r\n",
        "# for x in train_df['label']:\r\n",
        "#   nums[x-1]+=1\r\n",
        "# print(nums)"
      ],
      "execution_count": null,
      "outputs": [
        {
          "output_type": "stream",
          "text": [
            "/usr/local/lib/python3.6/dist-packages/seaborn/_decorators.py:43: FutureWarning: Pass the following variable as a keyword arg: x. From version 0.12, the only valid positional argument will be `data`, and passing other arguments without an explicit keyword will result in an error or misinterpretation.\n",
            "  FutureWarning\n"
          ],
          "name": "stderr"
        },
        {
          "output_type": "execute_result",
          "data": {
            "text/plain": [
              "<matplotlib.axes._subplots.AxesSubplot at 0x7ff2a7df35c0>"
            ]
          },
          "metadata": {
            "tags": []
          },
          "execution_count": 9
        },
        {
          "output_type": "display_data",
          "data": {
            "image/png": "[encoded data removed]",
            "text/plain": [
              "<Figure size 720x720 with 1 Axes>"
            ]
          },
          "metadata": {
            "tags": [],
            "needs_background": "light"
          }
        }
      ]
    },
    {
      "cell_type": "code",
      "metadata": {
        "id": "FiVtnU2BMM0O"
      },
      "source": [
        "y_train = train_df['label']\r\n",
        "y_test = test_df['label']\r\n",
        "del train_df['label']\r\n",
        "del test_df['label']"
      ],
      "execution_count": null,
      "outputs": []
    },
    {
      "cell_type": "code",
      "metadata": {
        "id": "kmsOhjsJMUgY"
      },
      "source": [
        "from sklearn.preprocessing import LabelBinarizer\r\n",
        "label_binarizer = LabelBinarizer()\r\n",
        "y_train = label_binarizer.fit_transform(y_train)\r\n",
        "y_test = label_binarizer.fit_transform(y_test)"
      ],
      "execution_count": null,
      "outputs": []
    },
    {
      "cell_type": "code",
      "metadata": {
        "id": "novAMOaBMWYp"
      },
      "source": [
        "x_train = train_df.values\r\n",
        "x_test = test_df.values"
      ],
      "execution_count": null,
      "outputs": []
    },
    {
      "cell_type": "code",
      "metadata": {
        "id": "AppgXdWNMX77"
      },
      "source": [
        "x_train = x_train / 255\r\n",
        "x_test = x_test / 255"
      ],
      "execution_count": null,
      "outputs": []
    },
    {
      "cell_type": "code",
      "metadata": {
        "id": "3dPz98HoMa1j"
      },
      "source": [
        "x_train = x_train.reshape(-1,28,28,1)\r\n",
        "x_test = x_test.reshape(-1,28,28,1)"
      ],
      "execution_count": null,
      "outputs": []
    },
    {
      "cell_type": "code",
      "metadata": {
        "colab": {
          "base_uri": "https://localhost:8080/",
          "height": 394
        },
        "id": "maBvuqqHMcXd",
        "outputId": "95afe725-7c2e-4666-8167-c7ac122103d4"
      },
      "source": [
        "f, ax = plt.subplots(2,5) \r\n",
        "f.set_size_inches(10, 10)\r\n",
        "k = 0\r\n",
        "for i in range(2):\r\n",
        "    for j in range(5):\r\n",
        "        ax[i,j].imshow(x_train[k].reshape(28, 28) , cmap = \"gray\")\r\n",
        "        k += 1\r\n",
        "    plt.tight_layout()   "
      ],
      "execution_count": null,
      "outputs": [
        {
          "output_type": "display_data",
          "data": {
            "image/png": "[encoded data removed]",
            "text/plain": [
              "<Figure size 720x720 with 10 Axes>"
            ]
          },
          "metadata": {
            "tags": []
          }
        }
      ]
    },
    {
      "cell_type": "code",
      "metadata": {
        "id": "ThlBs4wbMe5z"
      },
      "source": [
        "\r\n",
        "datagen = ImageDataGenerator(\r\n",
        "        featurewise_center=False,\r\n",
        "        samplewise_center=False,\r\n",
        "        featurewise_std_normalization=False,\r\n",
        "        samplewise_std_normalization=False,\r\n",
        "        zca_whitening=False,\r\n",
        "        rotation_range=10,\r\n",
        "        zoom_range = 0.1,  \r\n",
        "        width_shift_range=0.1, \r\n",
        "        height_shift_range=0.1, \r\n",
        "        horizontal_flip=False,\r\n",
        "        vertical_flip=False) \r\n",
        "\r\n",
        "datagen.fit(x_train)"
      ],
      "execution_count": null,
      "outputs": []
    },
    {
      "cell_type": "code",
      "metadata": {
        "id": "eAuyC5R0Mhpj"
      },
      "source": [
        "learning_rate_reduction = ReduceLROnPlateau(monitor='val_accuracy', patience = 2, verbose=1,factor=0.5, min_lr=0.00001)"
      ],
      "execution_count": null,
      "outputs": []
    },
    {
      "cell_type": "code",
      "metadata": {
        "colab": {
          "base_uri": "https://localhost:8080/"
        },
        "id": "yQuwBEipMix_",
        "outputId": "ca11899d-abad-429d-d658-a5e229526380"
      },
      "source": [
        "model = Sequential()\r\n",
        "model.add(Conv2D(75 , (3,3) , strides = 1 , padding = 'same' , activation = 'relu' , input_shape = (28,28,1)))\r\n",
        "model.add(BatchNormalization())\r\n",
        "model.add(MaxPool2D((2,2) , strides = 2 , padding = 'same'))\r\n",
        "model.add(Conv2D(50 , (3,3) , strides = 1 , padding = 'same' , activation = 'relu'))\r\n",
        "model.add(Dropout(0.2))\r\n",
        "model.add(BatchNormalization())\r\n",
        "model.add(MaxPool2D((2,2) , strides = 2 , padding = 'same'))\r\n",
        "model.add(Conv2D(25 , (3,3) , strides = 1 , padding = 'same' , activation = 'relu'))\r\n",
        "model.add(BatchNormalization())\r\n",
        "model.add(MaxPool2D((2,2) , strides = 2 , padding = 'same'))\r\n",
        "model.add(Flatten())\r\n",
        "model.add(Dense(units = 512 , activation = 'relu'))\r\n",
        "model.add(Dropout(0.3))\r\n",
        "model.add(Dense(units = 24 , activation = 'softmax'))\r\n",
        "model.compile(optimizer = 'adam' , loss = 'categorical_crossentropy' , metrics = ['accuracy'])\r\n",
        "model.summary()"
      ],
      "execution_count": null,
      "outputs": [
        {
          "output_type": "stream",
          "text": [
            "Model: \"sequential\"\n",
            "_________________________________________________________________\n",
            "Layer (type)                 Output Shape              Param #   \n",
            "=================================================================\n",
            "conv2d (Conv2D)              (None, 28, 28, 75)        750       \n",
            "_________________________________________________________________\n",
            "batch_normalization (BatchNo (None, 28, 28, 75)        300       \n",
            "_________________________________________________________________\n",
            "max_pooling2d (MaxPooling2D) (None, 14, 14, 75)        0         \n",
            "_________________________________________________________________\n",
            "conv2d_1 (Conv2D)            (None, 14, 14, 50)        33800     \n",
            "_________________________________________________________________\n",
            "dropout (Dropout)            (None, 14, 14, 50)        0         \n",
            "_________________________________________________________________\n",
            "batch_normalization_1 (Batch (None, 14, 14, 50)        200       \n",
            "_________________________________________________________________\n",
            "max_pooling2d_1 (MaxPooling2 (None, 7, 7, 50)          0         \n",
            "_________________________________________________________________\n",
            "conv2d_2 (Conv2D)            (None, 7, 7, 25)          11275     \n",
            "_________________________________________________________________\n",
            "batch_normalization_2 (Batch (None, 7, 7, 25)          100       \n",
            "_________________________________________________________________\n",
            "max_pooling2d_2 (MaxPooling2 (None, 4, 4, 25)          0         \n",
            "_________________________________________________________________\n",
            "flatten (Flatten)            (None, 400)               0         \n",
            "_________________________________________________________________\n",
            "dense (Dense)                (None, 512)               205312    \n",
            "_________________________________________________________________\n",
            "dropout_1 (Dropout)          (None, 512)               0         \n",
            "_________________________________________________________________\n",
            "dense_1 (Dense)              (None, 24)                12312     \n",
            "=================================================================\n",
            "Total params: 264,049\n",
            "Trainable params: 263,749\n",
            "Non-trainable params: 300\n",
            "_________________________________________________________________\n"
          ],
          "name": "stdout"
        }
      ]
    },
    {
      "cell_type": "code",
      "metadata": {
        "colab": {
          "base_uri": "https://localhost:8080/"
        },
        "id": "cS9On20SMkzV",
        "outputId": "4a863f72-09a3-493a-f213-bee9e0738149"
      },
      "source": [
        "history = model.fit(datagen.flow(x_train,y_train, batch_size = 128) ,epochs = 20 , validation_data = (x_test, y_test) , callbacks = [learning_rate_reduction])"
      ],
      "execution_count": null,
      "outputs": [
        {
          "output_type": "stream",
          "text": [
            "Epoch 1/20\n",
            "215/215 [==============================] - 95s 440ms/step - loss: 1.8857 - accuracy: 0.4416 - val_loss: 4.2368 - val_accuracy: 0.0697\n",
            "Epoch 2/20\n",
            "215/215 [==============================] - 93s 435ms/step - loss: 0.2770 - accuracy: 0.9084 - val_loss: 1.7466 - val_accuracy: 0.4639\n",
            "Epoch 3/20\n",
            "215/215 [==============================] - 94s 436ms/step - loss: 0.1209 - accuracy: 0.9606 - val_loss: 0.1130 - val_accuracy: 0.9664\n",
            "Epoch 4/20\n",
            "215/215 [==============================] - 94s 439ms/step - loss: 0.0753 - accuracy: 0.9747 - val_loss: 0.0714 - val_accuracy: 0.9791\n",
            "Epoch 5/20\n",
            "215/215 [==============================] - 94s 439ms/step - loss: 0.0471 - accuracy: 0.9855 - val_loss: 0.0256 - val_accuracy: 0.9927\n",
            "Epoch 6/20\n",
            "215/215 [==============================] - 94s 438ms/step - loss: 0.0384 - accuracy: 0.9877 - val_loss: 0.0401 - val_accuracy: 0.9841\n",
            "Epoch 7/20\n",
            "215/215 [==============================] - 94s 437ms/step - loss: 0.0245 - accuracy: 0.9926 - val_loss: 0.0451 - val_accuracy: 0.9823\n",
            "\n",
            "Epoch 00007: ReduceLROnPlateau reducing learning rate to 0.0005000000237487257.\n",
            "Epoch 8/20\n",
            "215/215 [==============================] - 94s 438ms/step - loss: 0.0190 - accuracy: 0.9943 - val_loss: 0.0404 - val_accuracy: 0.9869\n",
            "Epoch 9/20\n",
            "215/215 [==============================] - 94s 435ms/step - loss: 0.0142 - accuracy: 0.9958 - val_loss: 0.0141 - val_accuracy: 0.9953\n",
            "Epoch 10/20\n",
            "215/215 [==============================] - 94s 436ms/step - loss: 0.0116 - accuracy: 0.9965 - val_loss: 0.0084 - val_accuracy: 0.9972\n",
            "Epoch 11/20\n",
            "215/215 [==============================] - 94s 435ms/step - loss: 0.0106 - accuracy: 0.9970 - val_loss: 0.0092 - val_accuracy: 0.9972\n",
            "Epoch 12/20\n",
            "215/215 [==============================] - 95s 442ms/step - loss: 0.0110 - accuracy: 0.9964 - val_loss: 0.0563 - val_accuracy: 0.9819\n",
            "\n",
            "Epoch 00012: ReduceLROnPlateau reducing learning rate to 0.0002500000118743628.\n",
            "Epoch 13/20\n",
            "215/215 [==============================] - 95s 440ms/step - loss: 0.0109 - accuracy: 0.9964 - val_loss: 0.0051 - val_accuracy: 0.9975\n",
            "Epoch 14/20\n",
            "215/215 [==============================] - 94s 439ms/step - loss: 0.0074 - accuracy: 0.9974 - val_loss: 0.0096 - val_accuracy: 0.9960\n",
            "Epoch 15/20\n",
            "215/215 [==============================] - 95s 440ms/step - loss: 0.0057 - accuracy: 0.9987 - val_loss: 0.0046 - val_accuracy: 0.9979\n",
            "Epoch 16/20\n",
            "215/215 [==============================] - 94s 439ms/step - loss: 0.0057 - accuracy: 0.9981 - val_loss: 0.0058 - val_accuracy: 0.9974\n",
            "Epoch 17/20\n",
            "215/215 [==============================] - 95s 443ms/step - loss: 0.0054 - accuracy: 0.9984 - val_loss: 0.0220 - val_accuracy: 0.9957\n",
            "\n",
            "Epoch 00017: ReduceLROnPlateau reducing learning rate to 0.0001250000059371814.\n",
            "Epoch 18/20\n",
            "215/215 [==============================] - 96s 445ms/step - loss: 0.0048 - accuracy: 0.9987 - val_loss: 0.0040 - val_accuracy: 0.9983\n",
            "Epoch 19/20\n",
            "215/215 [==============================] - 95s 442ms/step - loss: 0.0050 - accuracy: 0.9985 - val_loss: 0.0027 - val_accuracy: 0.9999\n",
            "Epoch 20/20\n",
            "215/215 [==============================] - 94s 437ms/step - loss: 0.0032 - accuracy: 0.9993 - val_loss: 0.0115 - val_accuracy: 0.9974\n"
          ],
          "name": "stdout"
        }
      ]
    },
    {
      "cell_type": "code",
      "metadata": {
        "colab": {
          "base_uri": "https://localhost:8080/"
        },
        "id": "iHyJug96MoKX",
        "outputId": "09653859-58e4-45ed-a814-9dfd57f0a083"
      },
      "source": [
        "print(\"Accuracy of the model is - \" , model.evaluate(x_test,y_test)[1]*100 , \"%\")"
      ],
      "execution_count": null,
      "outputs": [
        {
          "output_type": "stream",
          "text": [
            "225/225 [==============================] - 5s 23ms/step - loss: 0.0115 - accuracy: 0.9974\n",
            "Accuracy of the model is -  99.7350811958313 %\n"
          ],
          "name": "stdout"
        }
      ]
    },
    {
      "cell_type": "code",
      "metadata": {
        "colab": {
          "base_uri": "https://localhost:8080/",
          "height": 657
        },
        "id": "qBWOdOkKMqAD",
        "outputId": "bc9b16f2-7312-4c61-ddd4-0630889e6885"
      },
      "source": [
        "epochs = [i for i in range(20)]\r\n",
        "fig , ax = plt.subplots(1,2)\r\n",
        "train_acc = history.history['accuracy']\r\n",
        "train_loss = history.history['loss']\r\n",
        "val_acc = history.history['val_accuracy']\r\n",
        "val_loss = history.history['val_loss']\r\n",
        "fig.set_size_inches(16,9)\r\n",
        "print(train_acc)\r\n",
        "print(val_acc)\r\n",
        "print(train_loss)\r\n",
        "print(val_loss)\r\n",
        "\r\n",
        "ax[0].plot(epochs , train_acc , 'go-' , label = 'Training Accuracy')\r\n",
        "ax[0].plot(epochs , val_acc , 'ro-' , label = 'Testing Accuracy')\r\n",
        "ax[0].set_title('Training & Validation Accuracy')\r\n",
        "ax[0].legend()\r\n",
        "ax[0].set_xlabel(\"Epochs\")\r\n",
        "ax[0].set_ylabel(\"Accuracy\")\r\n",
        "\r\n",
        "ax[1].plot(epochs , train_loss , 'g-o' , label = 'Training Loss')\r\n",
        "ax[1].plot(epochs , val_loss , 'r-o' , label = 'Testing Loss')\r\n",
        "ax[1].set_title('Testing Accuracy & Loss')\r\n",
        "ax[1].legend()\r\n",
        "ax[1].set_xlabel(\"Epochs\")\r\n",
        "ax[1].set_ylabel(\"Loss\")\r\n",
        "plt.show()"
      ],
      "execution_count": null,
      "outputs": [
        {
          "output_type": "stream",
          "text": [
            "[0.6480786800384521, 0.9251137971878052, 0.9658349752426147, 0.9783281683921814, 0.9855763912200928, 0.9886359572410583, 0.9911856055259705, 0.9949371814727783, 0.9962848424911499, 0.9962848424911499, 0.9973046779632568, 0.9968311786651611, 0.9975960850715637, 0.9979967474937439, 0.9986159205436707, 0.9982516765594482, 0.9982152581214905, 0.9988709092140198, 0.9985795021057129, 0.9991622567176819]\n",
            "[0.06971555948257446, 0.4638873338699341, 0.9663971066474915, 0.9790853261947632, 0.9927495718002319, 0.9841048717498779, 0.9822922348976135, 0.9868934750556946, 0.9952593445777893, 0.9972113966941833, 0.9972113966941833, 0.9818739295005798, 0.9974902272224426, 0.9959564805030823, 0.9979085326194763, 0.997350811958313, 0.995677649974823, 0.99832683801651, 0.9998605847358704, 0.997350811958313]\n",
            "[1.1184262037277222, 0.22804252803325653, 0.1072787493467331, 0.06625058501958847, 0.04713044315576553, 0.03613049536943436, 0.027568712830543518, 0.017240561544895172, 0.0129876509308815, 0.012056744657456875, 0.009945245459675789, 0.009833581745624542, 0.008792598731815815, 0.0065935468301177025, 0.005800042767077684, 0.005666511133313179, 0.006064779590815306, 0.00435525830835104, 0.004589428193867207, 0.0036161676980555058]\n",
            "[4.236790657043457, 1.7465516328811646, 0.11300519108772278, 0.07135896384716034, 0.02563970349729061, 0.040141694247722626, 0.04507260024547577, 0.04042311757802963, 0.01413008477538824, 0.008379518054425716, 0.009177315980196, 0.05625612288713455, 0.005123404320329428, 0.009567447938024998, 0.004631072748452425, 0.005839106161147356, 0.022022133693099022, 0.003950824029743671, 0.002724193502217531, 0.01152373943477869]\n"
          ],
          "name": "stdout"
        },
        {
          "output_type": "display_data",
          "data": {
            "image/png": "[encoded data removed]",
            "text/plain": [
              "<Figure size 1152x648 with 2 Axes>"
            ]
          },
          "metadata": {
            "tags": []
          }
        }
      ]
    },
    {
      "cell_type": "code",
      "metadata": {
        "colab": {
          "base_uri": "https://localhost:8080/"
        },
        "id": "cbfou_ojM9mV",
        "outputId": "57773f2d-a9cb-44fc-bc52-a4c228921f58"
      },
      "source": [
        "predictions = model.predict_classes(x_test)\r\n",
        "for i in range(len(predictions)):\r\n",
        "    if(predictions[i] >= 9):\r\n",
        "        predictions[i] += 1\r\n",
        "predictions[:5]         "
      ],
      "execution_count": null,
      "outputs": [
        {
          "output_type": "stream",
          "text": [
            "/usr/local/lib/python3.6/dist-packages/tensorflow/python/keras/engine/sequential.py:450: UserWarning: `model.predict_classes()` is deprecated and will be removed after 2021-01-01. Please use instead:* `np.argmax(model.predict(x), axis=-1)`,   if your model does multi-class classification   (e.g. if it uses a `softmax` last-layer activation).* `(model.predict(x) > 0.5).astype(\"int32\")`,   if your model does binary classification   (e.g. if it uses a `sigmoid` last-layer activation).\n",
            "  warnings.warn('`model.predict_classes()` is deprecated and '\n"
          ],
          "name": "stderr"
        },
        {
          "output_type": "execute_result",
          "data": {
            "text/plain": [
              "array([ 6,  5, 10,  0,  3])"
            ]
          },
          "metadata": {
            "tags": []
          },
          "execution_count": 22
        }
      ]
    },
    {
      "cell_type": "code",
      "metadata": {
        "colab": {
          "base_uri": "https://localhost:8080/"
        },
        "id": "E3hrsIvyM-_t",
        "outputId": "afb06c61-3fb0-4308-8857-1017da9a2592"
      },
      "source": [
        "classes = [\"Class \" + str(i) for i in range(25) if i != 9]\r\n",
        "print(classification_report(y, predictions, target_names = classes))"
      ],
      "execution_count": null,
      "outputs": [
        {
          "output_type": "stream",
          "text": [
            "              precision    recall  f1-score   support\n",
            "\n",
            "     Class 0       1.00      1.00      1.00       331\n",
            "     Class 1       1.00      1.00      1.00       432\n",
            "     Class 2       1.00      1.00      1.00       310\n",
            "     Class 3       1.00      1.00      1.00       245\n",
            "     Class 4       1.00      1.00      1.00       498\n",
            "     Class 5       1.00      1.00      1.00       247\n",
            "     Class 6       1.00      0.95      0.97       348\n",
            "     Class 7       1.00      1.00      1.00       436\n",
            "     Class 8       1.00      1.00      1.00       288\n",
            "    Class 10       1.00      1.00      1.00       331\n",
            "    Class 11       1.00      1.00      1.00       209\n",
            "    Class 12       0.96      1.00      0.98       394\n",
            "    Class 13       1.00      1.00      1.00       291\n",
            "    Class 14       1.00      1.00      1.00       246\n",
            "    Class 15       1.00      1.00      1.00       347\n",
            "    Class 16       1.00      1.00      1.00       164\n",
            "    Class 17       1.00      1.00      1.00       144\n",
            "    Class 18       1.00      1.00      1.00       246\n",
            "    Class 19       1.00      1.00      1.00       248\n",
            "    Class 20       1.00      1.00      1.00       266\n",
            "    Class 21       1.00      1.00      1.00       346\n",
            "    Class 22       1.00      1.00      1.00       206\n",
            "    Class 23       1.00      1.00      1.00       267\n",
            "    Class 24       1.00      1.00      1.00       332\n",
            "\n",
            "    accuracy                           1.00      7172\n",
            "   macro avg       1.00      1.00      1.00      7172\n",
            "weighted avg       1.00      1.00      1.00      7172\n",
            "\n"
          ],
          "name": "stdout"
        }
      ]
    },
    {
      "cell_type": "code",
      "metadata": {
        "id": "-ra36jghNANL"
      },
      "source": [
        "cm = confusion_matrix(y,predictions)"
      ],
      "execution_count": null,
      "outputs": []
    },
    {
      "cell_type": "code",
      "metadata": {
        "id": "UxiIkwBWNAHO"
      },
      "source": [
        "cm = pd.DataFrame(cm , index = [i for i in range(25) if i != 9] , columns = [i for i in range(25) if i != 9])"
      ],
      "execution_count": null,
      "outputs": []
    },
    {
      "cell_type": "code",
      "metadata": {
        "colab": {
          "base_uri": "https://localhost:8080/",
          "height": 880
        },
        "id": "43I8tn-MNDbB",
        "outputId": "c027e092-3840-401a-af03-d22e1b945b3e"
      },
      "source": [
        "plt.figure(figsize = (15,15))\r\n",
        "sns.heatmap(cm,cmap= \"Blues\", linecolor = 'black' , linewidth = 1 , annot = True, fmt='')"
      ],
      "execution_count": null,
      "outputs": [
        {
          "output_type": "execute_result",
          "data": {
            "text/plain": [
              "<matplotlib.axes._subplots.AxesSubplot at 0x7f4927046898>"
            ]
          },
          "metadata": {
            "tags": []
          },
          "execution_count": 25
        },
        {
          "output_type": "display_data",
          "data": {
            "image/png": "[encoded data removed]",
            "text/plain": [
              "<Figure size 1080x1080 with 2 Axes>"
            ]
          },
          "metadata": {
            "tags": []
          }
        }
      ]
    },
    {
      "cell_type": "code",
      "metadata": {
        "colab": {
          "base_uri": "https://localhost:8080/"
        },
        "id": "m7JMBbz9NDBq",
        "outputId": "0adc184b-1dfa-44c8-d545-92d115aff5b7"
      },
      "source": [
        "print(predictions)\r\n",
        "# correct = np.to_numpy(predictions).nonzero()[0]"
      ],
      "execution_count": null,
      "outputs": [
        {
          "output_type": "stream",
          "text": [
            "[ 6  5 10 ...  2  4  2]\n"
          ],
          "name": "stdout"
        }
      ]
    },
    {
      "cell_type": "code",
      "metadata": {
        "colab": {
          "base_uri": "https://localhost:8080/"
        },
        "id": "Q-IEzoEj7KpG",
        "outputId": "1902ccef-1d2b-415e-cfa9-5b8a82aec4a8"
      },
      "source": [
        "model.save(dir_path)"
      ],
      "execution_count": null,
      "outputs": [
        {
          "output_type": "stream",
          "text": [
            "INFO:tensorflow:Assets written to: gdrive/My Drive/WEC/assets\n"
          ],
          "name": "stdout"
        }
      ]
    },
    {
      "cell_type": "code",
      "metadata": {
        "id": "7d2y23-S7jSt"
      },
      "source": [
        "from tensorflow.keras.models import load_model\r\n",
        "model = load_model(dir_path)"
      ],
      "execution_count": null,
      "outputs": []
    },
    {
      "cell_type": "code",
      "metadata": {
        "colab": {
          "base_uri": "https://localhost:8080/"
        },
        "id": "Uvu0uTPI3h56",
        "outputId": "180cee9d-5803-4cce-c1e0-cf88b6469573"
      },
      "source": [
        "import cv2\r\n",
        "image = cv2.imread(dir_path + \"hand_6.jpg\", cv2.IMREAD_GRAYSCALE)\r\n",
        "image.shape"
      ],
      "execution_count": null,
      "outputs": [
        {
          "output_type": "execute_result",
          "data": {
            "text/plain": [
              "(480, 480)"
            ]
          },
          "metadata": {
            "tags": []
          },
          "execution_count": 9
        }
      ]
    },
    {
      "cell_type": "code",
      "metadata": {
        "id": "_3RbFYXJPBEW"
      },
      "source": [
        "resized_image = cv2.resize(image, (28, 28)).reshape(-1,28,28,1)\r\n",
        "resized_image.shape\r\n",
        "resized_image = resized_image / 255.0"
      ],
      "execution_count": null,
      "outputs": []
    },
    {
      "cell_type": "code",
      "metadata": {
        "colab": {
          "base_uri": "https://localhost:8080/",
          "height": 286
        },
        "id": "trM8nytSPNRN",
        "outputId": "1b777205-ca6d-4a59-cf3b-faca1e3ad6d4"
      },
      "source": [
        "plt.imshow(image)"
      ],
      "execution_count": null,
      "outputs": [
        {
          "output_type": "execute_result",
          "data": {
            "text/plain": [
              "<matplotlib.image.AxesImage at 0x7ff12ad709b0>"
            ]
          },
          "metadata": {
            "tags": []
          },
          "execution_count": 11
        },
        {
          "output_type": "display_data",
          "data": {
            "image/png": "[encoded data removed]",
            "text/plain": [
              "<Figure size 432x288 with 1 Axes>"
            ]
          },
          "metadata": {
            "tags": [],
            "needs_background": "light"
          }
        }
      ]
    },
    {
      "cell_type": "code",
      "metadata": {
        "colab": {
          "base_uri": "https://localhost:8080/",
          "height": 108
        },
        "id": "L7eyerjd3gDd",
        "outputId": "3ae4954b-b2e0-4b4a-892e-b9a643cface1"
      },
      "source": [
        "\r\n",
        "# predictions = model.predict_classes(image)\r\n",
        "letters = ['A', 'B', 'C', 'D', 'E', 'F', 'G', 'H', 'I', 'K', 'L', 'M', 'N', 'O', 'P', 'Q', 'R', 'S', 'T', 'U', 'V', 'W', 'X', 'Y']\r\n",
        "prediction = model.predict_classes(resized_image)\r\n",
        "print(prediction)\r\n",
        "letters[prediction[0]]"
      ],
      "execution_count": null,
      "outputs": [
        {
          "output_type": "stream",
          "text": [
            "[1]\n"
          ],
          "name": "stdout"
        },
        {
          "output_type": "stream",
          "text": [
            "/usr/local/lib/python3.6/dist-packages/tensorflow/python/keras/engine/sequential.py:450: UserWarning: `model.predict_classes()` is deprecated and will be removed after 2021-01-01. Please use instead:* `np.argmax(model.predict(x), axis=-1)`,   if your model does multi-class classification   (e.g. if it uses a `softmax` last-layer activation).* `(model.predict(x) > 0.5).astype(\"int32\")`,   if your model does binary classification   (e.g. if it uses a `sigmoid` last-layer activation).\n",
            "  warnings.warn('`model.predict_classes()` is deprecated and '\n"
          ],
          "name": "stderr"
        },
        {
          "output_type": "execute_result",
          "data": {
            "application/vnd.google.colaboratory.intrinsic+json": {
              "type": "string"
            },
            "text/plain": [
              "'B'"
            ]
          },
          "metadata": {
            "tags": []
          },
          "execution_count": 13
        }
      ]
    }
  ]
}